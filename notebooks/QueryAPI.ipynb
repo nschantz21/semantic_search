{
  "nbformat": 4,
  "nbformat_minor": 0,
  "metadata": {
    "colab": {
      "name": "QueryAPI.ipynb",
      "provenance": [],
      "collapsed_sections": [],
      "mount_file_id": "18EXc7yE6xvvd9y53FlZ5r60Q4mUANZff",
      "authorship_tag": "ABX9TyPvGyED7o1vLT6wChh3lPDw",
      "include_colab_link": true
    },
    "kernelspec": {
      "name": "python3",
      "display_name": "Python 3"
    },
    "language_info": {
      "name": "python"
    }
  },
  "cells": [
    {
      "cell_type": "markdown",
      "metadata": {
        "id": "view-in-github",
        "colab_type": "text"
      },
      "source": [
        "<a href=\"https://colab.research.google.com/github/nschantz21/semantic_search/blob/develop/notebooks/QueryAPI.ipynb\" target=\"_parent\"><img src=\"https://colab.research.google.com/assets/colab-badge.svg\" alt=\"Open In Colab\"/></a>"
      ]
    },
    {
      "cell_type": "code",
      "metadata": {
        "id": "7TD_O8Ne50cB"
      },
      "source": [
        "import pandas as pd"
      ],
      "execution_count": 1,
      "outputs": []
    },
    {
      "cell_type": "code",
      "metadata": {
        "id": "b4vywZJXsHoO"
      },
      "source": [
        "import gensim\n",
        "from gensim.models import Word2Vec\n",
        "from gensim.models import KeyedVectors\n",
        "\n",
        "def semantic_search(query_word: str):\n",
        "    \"\"\"\n",
        "    Function to get the most similar trend terms\n",
        "    \"\"\"\n",
        "    cbow_wv = KeyedVectors.load(\"/content/drive/MyDrive/NWO Project/model1_vectors.kv\", mmap='r')\n",
        "    # skip gram\n",
        "    skipgram_wv = KeyedVectors.load(\"/content/drive/MyDrive/NWO Project/model2_vectors.kv\", mmap='r')\n",
        "    topn=1000\n",
        "    cbow_sim = cbow_wv.most_similar(query_word, topn=100)\n",
        "    sg_sim = skipgram_wv.most_similar(query_word, topn=100)\n",
        "    cbow_sim_frame = pd.DataFrame(cbow_sim).set_index(0)\n",
        "    sg_sim_frame = pd.DataFrame(sg_sim).set_index(0)\n",
        "    average_score = (cbow_sim_frame.add(sg_sim_frame, fill_value=0.0).sort_values(by=1) / 2).head(topn)\n",
        "    return average_score\n"
      ],
      "execution_count": 8,
      "outputs": []
    },
    {
      "cell_type": "code",
      "metadata": {
        "id": "hKkPrvcpaKRI"
      },
      "source": [
        "!pip install flask-restful\n",
        "!pip install flask-ngrok"
      ],
      "execution_count": null,
      "outputs": []
    },
    {
      "cell_type": "code",
      "metadata": {
        "id": "Uvv0M9nzZtec"
      },
      "source": [
        "from flask import Flask\n",
        "from flask_restful import Resource, Api, reqparse\n",
        "from flask_ngrok import run_with_ngrok\n",
        "import ast"
      ],
      "execution_count": 3,
      "outputs": []
    },
    {
      "cell_type": "code",
      "metadata": {
        "id": "u9kvwRBI6INY"
      },
      "source": [
        "app = Flask(__name__)\n",
        "run_with_ngrok(app)\n",
        "api = Api(app)"
      ],
      "execution_count": 4,
      "outputs": []
    },
    {
      "cell_type": "code",
      "metadata": {
        "id": "NqWSV7YgNKUi"
      },
      "source": [
        "# define our API end point for Semantic Search\n",
        "class Query(Resource):\n",
        "    # define the HTTP methods here\n",
        "    def get(self, query_word):\n",
        "        # parse arguments\n",
        "        #parser = reqparse.RequestParser()\n",
        "        #parser.add_argument(\"query_word\", type=str, help=\"single query term for semantic search\")\n",
        "        #args = parser.parse_args()\n",
        "        # call the semantic search function\n",
        "        #related_terms = semantic_search(query_word=args[query_word]).to_dict()\n",
        "        related_terms = semantic_search(query_word=query_word).to_dict()\n",
        "        return {\"related_terms\": related_terms}, 200"
      ],
      "execution_count": 5,
      "outputs": []
    },
    {
      "cell_type": "code",
      "metadata": {
        "id": "nAgrrTMWN2vA"
      },
      "source": [
        "api.add_resource(Query, \"/<string:query_word>\")"
      ],
      "execution_count": 6,
      "outputs": []
    },
    {
      "cell_type": "code",
      "metadata": {
        "colab": {
          "base_uri": "https://localhost:8080/"
        },
        "id": "opPWs0AYN84T",
        "outputId": "d1764136-a4d6-4137-b5eb-cacb9a26ed5b"
      },
      "source": [
        "if __name__ == \"__main__\":\n",
        "    app.run()"
      ],
      "execution_count": 9,
      "outputs": [
        {
          "output_type": "stream",
          "name": "stdout",
          "text": [
            " * Serving Flask app \"__main__\" (lazy loading)\n",
            " * Environment: production\n",
            "\u001b[31m   WARNING: This is a development server. Do not use it in a production deployment.\u001b[0m\n",
            "\u001b[2m   Use a production WSGI server instead.\u001b[0m\n",
            " * Debug mode: off\n"
          ]
        },
        {
          "output_type": "stream",
          "name": "stderr",
          "text": [
            " * Running on http://127.0.0.1:5000/ (Press CTRL+C to quit)\n"
          ]
        },
        {
          "output_type": "stream",
          "name": "stdout",
          "text": [
            " * Running on http://eec3-35-185-219-50.ngrok.io\n",
            " * Traffic stats available on http://127.0.0.1:4040\n"
          ]
        },
        {
          "output_type": "stream",
          "name": "stderr",
          "text": [
            "127.0.0.1 - - [04/Dec/2021 21:32:27] \"\u001b[33mGET / HTTP/1.1\u001b[0m\" 404 -\n",
            "[2021-12-04 21:32:28,511] ERROR in app: Exception on /favicon.ico [GET]\n",
            "Traceback (most recent call last):\n",
            "  File \"/usr/local/lib/python3.7/dist-packages/flask/app.py\", line 1950, in full_dispatch_request\n",
            "    rv = self.dispatch_request()\n",
            "  File \"/usr/local/lib/python3.7/dist-packages/flask/app.py\", line 1936, in dispatch_request\n",
            "    return self.view_functions[rule.endpoint](**req.view_args)\n",
            "  File \"/usr/local/lib/python3.7/dist-packages/flask_restful/__init__.py\", line 467, in wrapper\n",
            "    resp = resource(*args, **kwargs)\n",
            "  File \"/usr/local/lib/python3.7/dist-packages/flask/views.py\", line 89, in view\n",
            "    return self.dispatch_request(*args, **kwargs)\n",
            "  File \"/usr/local/lib/python3.7/dist-packages/flask_restful/__init__.py\", line 582, in dispatch_request\n",
            "    resp = meth(*args, **kwargs)\n",
            "  File \"<ipython-input-5-92999c116733>\", line 11, in get\n",
            "    related_terms = semantic_search(query_word=query_word).to_dict()\n",
            "  File \"<ipython-input-8-8738c569d009>\", line 13, in semantic_search\n",
            "    cbow_sim = cbow_wv.most_similar(query_word, topn=100)\n",
            "  File \"/usr/local/lib/python3.7/dist-packages/gensim/models/keyedvectors.py\", line 531, in most_similar\n",
            "    mean.append(weight * self.word_vec(word, use_norm=True))\n",
            "  File \"/usr/local/lib/python3.7/dist-packages/gensim/models/keyedvectors.py\", line 452, in word_vec\n",
            "    raise KeyError(\"word '%s' not in vocabulary\" % word)\n",
            "KeyError: \"word 'favicon.ico' not in vocabulary\"\n",
            "127.0.0.1 - - [04/Dec/2021 21:32:28] \"\u001b[35m\u001b[1mGET /favicon.ico HTTP/1.1\u001b[0m\" 500 -\n",
            "127.0.0.1 - - [04/Dec/2021 21:32:32] \"\u001b[37mGET /cat HTTP/1.1\u001b[0m\" 200 -\n"
          ]
        }
      ]
    }
  ]
}