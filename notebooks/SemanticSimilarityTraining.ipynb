{
  "nbformat": 4,
  "nbformat_minor": 0,
  "metadata": {
    "colab": {
      "name": "SemanticSimilarityTraining.ipynb",
      "provenance": [],
      "collapsed_sections": [],
      "mount_file_id": "19AhsBOCQdVNcZ6kfirgWfVSj_Nu6CwZc",
      "authorship_tag": "ABX9TyNpxlWJr98EHwPPbUdVo408",
      "include_colab_link": true
    },
    "kernelspec": {
      "name": "python3",
      "display_name": "Python 3"
    },
    "language_info": {
      "name": "python"
    }
  },
  "cells": [
    {
      "cell_type": "markdown",
      "metadata": {
        "id": "view-in-github",
        "colab_type": "text"
      },
      "source": [
        "<a href=\"https://colab.research.google.com/github/nschantz21/semantic_search/blob/develop/notebooks/SemanticSimilarityTraining.ipynb\" target=\"_parent\"><img src=\"https://colab.research.google.com/assets/colab-badge.svg\" alt=\"Open In Colab\"/></a>"
      ]
    },
    {
      "cell_type": "code",
      "metadata": {
        "colab": {
          "base_uri": "https://localhost:8080/"
        },
        "id": "OhU6NPSTxgIA",
        "outputId": "84fda75b-a7c2-4428-f896-883c22b02e41"
      },
      "source": [
        "#import nltk\n",
        "#nltk.download('punkt')"
      ],
      "execution_count": 5,
      "outputs": [
        {
          "output_type": "stream",
          "name": "stdout",
          "text": [
            "[nltk_data] Downloading package punkt to /root/nltk_data...\n",
            "[nltk_data]   Unzipping tokenizers/punkt.zip.\n"
          ]
        },
        {
          "output_type": "execute_result",
          "data": {
            "text/plain": [
              "True"
            ]
          },
          "metadata": {},
          "execution_count": 5
        }
      ]
    },
    {
      "cell_type": "code",
      "metadata": {
        "id": "pkoErpTexA6n"
      },
      "source": [
        "# Python program to generate word vectors using Word2Vec\n",
        "  \n",
        "# importing all necessary modules\n",
        "from nltk.tokenize import sent_tokenize, word_tokenize\n",
        "import warnings\n",
        "warnings.filterwarnings(action = 'ignore')"
      ],
      "execution_count": 2,
      "outputs": []
    },
    {
      "cell_type": "code",
      "metadata": {
        "id": "v0awwtrbxF8U"
      },
      "source": [
        "import gensim\n",
        "from gensim.models import Word2Vec"
      ],
      "execution_count": 3,
      "outputs": []
    },
    {
      "cell_type": "code",
      "metadata": {
        "colab": {
          "base_uri": "https://localhost:8080/"
        },
        "id": "2TBQAUZixLUz",
        "outputId": "7b3a0cb9-936a-4c3b-d76e-ca64c6033f0f"
      },
      "source": [
        "#  Reads ‘alice.txt’ file\n",
        "sample = open(\"alice.txt\", \"r\")\n",
        "s = sample.read()\n",
        "  \n",
        "# Replaces escape character with space\n",
        "f = s.replace(\"\\n\", \" \")\n",
        "  \n",
        "data = []\n",
        "\n",
        "\n",
        "# iterate through each sentence in the file\n",
        "for i in sent_tokenize(f):\n",
        "    temp = []\n",
        "      \n",
        "    # tokenize the sentence into words\n",
        "    for j in word_tokenize(i):\n",
        "        temp.append(j.lower())\n",
        "  \n",
        "    data.append(temp)\n",
        "  \n",
        "# Create CBOW model\n",
        "model1 = gensim.models.Word2Vec(data, min_count = 1, \n",
        "                              size = 100, window = 5)\n",
        "\n",
        "# Print results\n",
        "print(\"Cosine similarity between 'alice' \" + \n",
        "               \"and 'wonderland' - CBOW : \",\n",
        "    model1.similarity('alice', 'wonderland'))\n",
        "      \n",
        "print(\"Cosine similarity between 'alice' \" +\n",
        "                 \"and 'machines' - CBOW : \",\n",
        "      model1.similarity('alice', 'machines'))\n",
        "  \n",
        "# Create Skip Gram model\n",
        "model2 = gensim.models.Word2Vec(data, min_count = 1, size = 100,\n",
        "                                             window = 5, sg = 1)\n",
        "  \n",
        "# Print results\n",
        "print(\"Cosine similarity between 'alice' \" +\n",
        "          \"and 'wonderland' - Skip Gram : \",\n",
        "    model2.similarity('alice', 'wonderland'))\n",
        "      \n",
        "print(\"Cosine similarity between 'alice' \" +\n",
        "            \"and 'machines' - Skip Gram : \",\n",
        "      model2.similarity('alice', 'machines'))"
      ],
      "execution_count": 6,
      "outputs": [
        {
          "output_type": "stream",
          "name": "stdout",
          "text": [
            "Cosine similarity between 'alice' and 'wonderland' - CBOW :  0.9992941\n",
            "Cosine similarity between 'alice' and 'machines' - CBOW :  0.96279436\n",
            "Cosine similarity between 'alice' and 'wonderland' - Skip Gram :  0.86994\n",
            "Cosine similarity between 'alice' and 'machines' - Skip Gram :  0.8468063\n"
          ]
        }
      ]
    },
    {
      "cell_type": "code",
      "metadata": {
        "colab": {
          "base_uri": "https://localhost:8080/"
        },
        "id": "ppsZo-7kxjdO",
        "outputId": "72aef9ce-d868-4632-b353-846f27ac672d"
      },
      "source": [
        "model2.wv.similar_by_word(\"alice\")"
      ],
      "execution_count": 8,
      "outputs": [
        {
          "output_type": "execute_result",
          "data": {
            "text/plain": [
              "[('thought', 0.9960631132125854),\n",
              " ('hatter', 0.990753173828125),\n",
              " ('”', 0.9900180697441101),\n",
              " ('said', 0.9899085760116577),\n",
              " ('it', 0.9868391752243042),\n",
              " ('well', 0.98663330078125),\n",
              " (';', 0.9845244884490967),\n",
              " ('but', 0.9843130111694336),\n",
              " (',', 0.9836928844451904),\n",
              " ('?', 0.9836686253547668)]"
            ]
          },
          "metadata": {},
          "execution_count": 8
        }
      ]
    },
    {
      "cell_type": "code",
      "metadata": {
        "id": "S8deOpzhCMxo"
      },
      "source": [
        "# imports\n",
        "import os\n",
        "from google.cloud import bigquery\n",
        "from google.oauth2 import service_account\n",
        "import json\n",
        "\n",
        "key_file_path = \"/content/drive/MyDrive/NWO Project/nwo-sample-5f8915fdc5ec.json\"\n",
        "f = open(key_file_path).read()\n",
        "\n",
        "# constants\n",
        "AUTH_KEY = json.loads(f)\n",
        "os.environ[\"GOOGLE_APPLICATION_CREDENTIALS\"] = key_file_path\n",
        "\n",
        "\n",
        "TWITTER_DB_NAME = \"nwo-sample.graph.tweets\"\n",
        "REDDIT_DB_NAME = \"nwo-sample.graph.reddit\"\n",
        "\n",
        "client = bigquery.Client()\n",
        "\n",
        "twitter_table = client.get_table(TWITTER_DB_NAME)\n",
        "reddit_table = client.get_table(REDDIT_DB_NAME)"
      ],
      "execution_count": null,
      "outputs": []
    },
    {
      "cell_type": "code",
      "metadata": {
        "id": "oa9DHPkuG4u9"
      },
      "source": [
        "union_query = \"\"\"\n",
        "(\n",
        "SELECT\n",
        "    reddit.created_utc as unix_time,\n",
        "    reddit.body as content\n",
        "FROM\n",
        "    {0}  as reddit TABLESAMPLE SYSTEM (1 PERCENT)\n",
        "\n",
        "WHERE\n",
        "    reddit.created_utc is not NULL and\n",
        "    reddit.body is not NULL\n",
        ")\n",
        "UNION ALL\n",
        "(\n",
        "SELECT\n",
        "    -- make the twitter time stamp unix time\n",
        "    UNIX_SECONDS(PARSE_TIMESTAMP(\"%F %X\", twitter.created_at)) as unix_time,\n",
        "    twitter.tweet as content\n",
        "FROM\n",
        "    {1} as twitter TABLESAMPLE SYSTEM (1 PERCENT) \n",
        "    \n",
        "WHERE\n",
        "    twitter.created_at is not NULL and\n",
        "    twitter.tweet is not NULL\n",
        ")\n",
        "LIMIT {2}\n",
        "\"\"\".format(\n",
        "    REDDIT_DB_NAME,\n",
        "    TWITTER_DB_NAME,\n",
        "    10000\n",
        ")"
      ],
      "execution_count": 73,
      "outputs": []
    },
    {
      "cell_type": "code",
      "metadata": {
        "id": "fPBoTYJpH8v0"
      },
      "source": [
        "client.query(union_query)\n",
        "union_query_job = client.query(union_query)\n",
        "union_rows = union_query_job.result()"
      ],
      "execution_count": 74,
      "outputs": []
    },
    {
      "cell_type": "code",
      "metadata": {
        "colab": {
          "base_uri": "https://localhost:8080/"
        },
        "id": "cA7tHIavNwaC",
        "outputId": "1b61fe65-1e14-4551-8957-306b112fd271"
      },
      "source": [
        "# check number of rows\n",
        "union_rows.total_rows"
      ],
      "execution_count": 75,
      "outputs": [
        {
          "output_type": "execute_result",
          "data": {
            "text/plain": [
              "10000"
            ]
          },
          "metadata": {},
          "execution_count": 75
        }
      ]
    },
    {
      "cell_type": "code",
      "metadata": {
        "id": "-y-PeKoJ_Rck"
      },
      "source": [
        "# open query path\n",
        "# query top 1000 rows\n",
        "\n",
        "# make table iterator\n",
        "  \n",
        "data = []\n",
        "\n",
        "# iterate through each row content\n",
        "for h, i in union_rows:\n",
        "    for i2 in sent_tokenize(i):\n",
        "        temp = []\n",
        "        \n",
        "        # tokenize the sentence into words\n",
        "        for j in word_tokenize(i2):\n",
        "            temp.append(j.lower())\n",
        "    \n",
        "        data.append(temp)"
      ],
      "execution_count": 76,
      "outputs": []
    },
    {
      "cell_type": "code",
      "metadata": {
        "id": "CNNfytATNX9A"
      },
      "source": [
        "# Create CBOW model\n",
        "model1 = gensim.models.Word2Vec(data, min_count = 1, \n",
        "                              size = 100, window = 5)"
      ],
      "execution_count": 77,
      "outputs": []
    },
    {
      "cell_type": "code",
      "metadata": {
        "id": "SknvSneqOBr-"
      },
      "source": [
        "# persist word vectors to disk\n",
        "word_vectors = model1.wv\n",
        "word_vectors.save(\"/content/drive/MyDrive/NWO Project/model1_vectors.kv\")"
      ],
      "execution_count": 78,
      "outputs": []
    },
    {
      "cell_type": "code",
      "metadata": {
        "colab": {
          "base_uri": "https://localhost:8080/"
        },
        "id": "lbbhKkobO1aj",
        "outputId": "343c7ae7-23f5-4407-edff-b341f09ee302"
      },
      "source": [
        "similarity_result = word_vectors.most_similar(\"apple\")\n",
        "similarity_result[:5]"
      ],
      "execution_count": 79,
      "outputs": [
        {
          "output_type": "execute_result",
          "data": {
            "text/plain": [
              "[('housing', 0.998363196849823),\n",
              " ('”', 0.9983266592025757),\n",
              " ('inside', 0.9980441331863403),\n",
              " ('firm', 0.9977648854255676),\n",
              " ('national', 0.9976845979690552)]"
            ]
          },
          "metadata": {},
          "execution_count": 79
        }
      ]
    },
    {
      "cell_type": "code",
      "metadata": {
        "id": "bMBwmhLUOdYG"
      },
      "source": [
        "# Create Skip Gram model\n",
        "model2 = gensim.models.Word2Vec(data, min_count = 1, size = 100,\n",
        "                                             window = 5, sg = 1)"
      ],
      "execution_count": 80,
      "outputs": []
    },
    {
      "cell_type": "code",
      "metadata": {
        "id": "tKjuej5tP-6l"
      },
      "source": [
        "# persist word vectors to disk\n",
        "word_vectors_m2 = model2.wv\n",
        "word_vectors_m2.save(\"/content/drive/MyDrive/NWO Project/model2_vectors.kv\")"
      ],
      "execution_count": 81,
      "outputs": []
    },
    {
      "cell_type": "code",
      "metadata": {
        "colab": {
          "base_uri": "https://localhost:8080/"
        },
        "id": "tXBhg5YAQwYt",
        "outputId": "23da34ac-606f-42fe-c5d9-cef2b9a29d60"
      },
      "source": [
        "type(word_vectors)"
      ],
      "execution_count": 85,
      "outputs": [
        {
          "output_type": "execute_result",
          "data": {
            "text/plain": [
              "gensim.models.keyedvectors.Word2VecKeyedVectors"
            ]
          },
          "metadata": {},
          "execution_count": 85
        }
      ]
    },
    {
      "cell_type": "code",
      "metadata": {
        "colab": {
          "base_uri": "https://localhost:8080/"
        },
        "id": "TqjXq1MjQF_V",
        "outputId": "85c44a7f-c98d-4fe9-c336-37e409b0f14d"
      },
      "source": [
        "similarity_result_m2 = word_vectors_m2.most_similar(\"apple\", topn=10)\n",
        "similarity_result_m2"
      ],
      "execution_count": 86,
      "outputs": [
        {
          "output_type": "execute_result",
          "data": {
            "text/plain": [
              "[('master', 0.9975461959838867),\n",
              " ('county', 0.9973716735839844),\n",
              " ('star', 0.9960933923721313),\n",
              " ('festival', 0.9957079291343689),\n",
              " ('central', 0.9952035546302795),\n",
              " ('law', 0.9950966835021973),\n",
              " ('giveaway', 0.9950230121612549),\n",
              " ('album', 0.9947937726974487),\n",
              " ('forum', 0.9946258068084717),\n",
              " ('jersey', 0.9943627119064331)]"
            ]
          },
          "metadata": {},
          "execution_count": 86
        }
      ]
    },
    {
      "cell_type": "code",
      "metadata": {
        "colab": {
          "base_uri": "https://localhost:8080/",
          "height": 173
        },
        "id": "4jQQV9YAQkio",
        "outputId": "2787210a-1eb5-401b-c463-d4f46ebf3be6"
      },
      "source": [
        "word_vectors_m2.similar_by_word(\"poo\")"
      ],
      "execution_count": 93,
      "outputs": [
        {
          "output_type": "error",
          "ename": "AttributeError",
          "evalue": "ignored",
          "traceback": [
            "\u001b[0;31m---------------------------------------------------------------------------\u001b[0m",
            "\u001b[0;31mAttributeError\u001b[0m                            Traceback (most recent call last)",
            "\u001b[0;32m<ipython-input-93-ab1258fa615f>\u001b[0m in \u001b[0;36m<module>\u001b[0;34m()\u001b[0m\n\u001b[0;32m----> 1\u001b[0;31m \u001b[0mword_vectors_m2\u001b[0m\u001b[0;34m.\u001b[0m\u001b[0msimilar_by_word\u001b[0m\u001b[0;34m(\u001b[0m\u001b[0;34m\"poo\"\u001b[0m\u001b[0;34m)\u001b[0m\u001b[0;34m.\u001b[0m\u001b[0msort_by_descending_frequency\u001b[0m\u001b[0;34m\u001b[0m\u001b[0;34m\u001b[0m\u001b[0m\n\u001b[0m",
            "\u001b[0;31mAttributeError\u001b[0m: 'list' object has no attribute 'sort_by_descending_frequency'"
          ]
        }
      ]
    },
    {
      "cell_type": "code",
      "metadata": {
        "id": "3GfV3AQfRrAT"
      },
      "source": [
        ""
      ],
      "execution_count": null,
      "outputs": []
    }
  ]
}